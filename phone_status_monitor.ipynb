{
 "cells": [
  {
   "cell_type": "markdown",
   "id": "00da70e5-9eb1-4c97-9b66-2a971a31bd5d",
   "metadata": {},
   "source": [
    "# Phone Status Monitor Simulator 📱"
   ]
  },
  {
   "cell_type": "markdown",
   "id": "87c6b8c8-37eb-4d9a-ae2f-15d34616fd67",
   "metadata": {},
   "source": [
    "\n",
    "A simple **Python OOP Simulation** project that simulates the behaviour of a mobile phone.  \n",
    "The simulator keeps track of your phone’s **battery, balance, and data**, and lets you perform everyday actions like charging, topping up,buying data bundles, making calls, sending messsages and browsing.    \n",
    "The project provides a simple yet practical way to demonstrate encapsulation, inheritance, abstraction, methods, and state management in Python classes while reflecting real-world mobile phone usage.  \n",
    "\n",
    "---\n",
    "\n",
    "## 🔑 Key Features\n",
    "- **Battery Monitoring**: Charge the phone(by time or percent).\n",
    "- **Airtime Balance Tracking**: Top up in dollars for use in calls and purchase of data bundles.\n",
    "- **Data Management**: Purchase data bundles using airtime balance.\n",
    "- **Call Simulation**: Simulate a phone call that reduces the airtime balance and battery charge.\n",
    "- **Browsing Simulation**: Browse the internet based on duration and profile:\n",
    "  - *Light* (chatting, light apps)  \n",
    "  - *Normal* (social media)  \n",
    "  - *Heavy* (video streaming)\n",
    "- **Sms Simulation**: Simulate messages being sent that reduces the airtime balance and battery charge\n",
    "- **Status Display**: check the phone’s current state with a simple battery bar.\n",
    "\n",
    "---\n",
    "\n",
    "## 🎯 Learning Objectives\n",
    "This project will help you understand and familiarise with **Object-Oriented Programming (OOP)** in Python by showing how:\n",
    "- **Classes** act as blueprints.\n",
    "- **Objects/Instances** represent the real things(your phone) created from our class.\n",
    "- **Attributes** store the data / variables that belong to our phone object(battery, balance, data).\n",
    "- **Methods** are functions defined inside our class that describe the behavior (charge, call, browse) of our object.\n",
    "\n"
   ]
  },
  {
   "cell_type": "code",
   "execution_count": 2,
   "id": "037be7d1-67a9-4579-8df6-551f21ccd463",
   "metadata": {},
   "outputs": [],
   "source": [
    "# --- Phone Status Monitor Simulator (improved OOP) ---\n",
    "\n",
    "class Phone(object):\n",
    "\n",
    "    def __init__(self, owner, battery=50, balance=0.0, data_mb=0):\n",
    "        self.owner = owner\n",
    "        self.battery = int(battery)    # 0–100\n",
    "        self.balance = float(balance)  # dollars\n",
    "        self.data_mb = int(data_mb)    # megabytes\n",
    "\n",
    "    # ===== Helpers =====\n",
    "    def _cap_battery(self):\n",
    "        self.battery = max(0, min(100, int(self.battery)))\n",
    "\n",
    "    def _require(self, cond, msg):\n",
    "        if not cond:\n",
    "            print(f\"⚠️  {msg}\")\n",
    "            return False\n",
    "        return True\n",
    "\n",
    "    def _bar(self, value, max_value=100, width=20):\n",
    "        # simple text progress bar for nicer status\n",
    "        filled = int(round((value / max_value) * width))\n",
    "        return \"[\" + \"█\" * filled + \"·\" * (width - filled) + \"]\"\n",
    "\n",
    "    # ===== Actions =====\n",
    "\n",
    "    def charge(self, minutes=None, percent=None):\n",
    "        pass\n",
    "\n",
    "    def top_up(self, amount):\n",
    "        pass\n",
    "\n",
    "    def buy_data(self, dollars):\n",
    "        pass\n",
    "\n",
    "    def call(self, minutes):\n",
    "        pass\n",
    "\n",
    "    def browse(self, minutes, profile=\"normal\"):\n",
    "        pass\n",
    "\n",
    "    def sms(self, message):\n",
    "        pass\n",
    "\n",
    "    def status(self):\n",
    "        pass\n",
    "\n",
    "\n",
    "class Smartphone(Phone):\n",
    "    # ===== Configurable \"tariffs\" / rates =====\n",
    "    CURRENCY = \"$\"\n",
    "    DATA_MB_PER_DOLLAR = 5          # $1 -> 5 MB\n",
    "    CALL_COST_PER_MIN = 1.0         # $ per minute\n",
    "    CALL_BATTERY_PER_MIN = 1        # % battery per minute on call 2\n",
    "    COST_PER_SMS = 0.5              # $0.5 per sms\n",
    "    SMS_BATTERY_USE = 0.3           # % battery per sms\n",
    "\n",
    "    # Browsing profiles: data+ battery usage per minute\n",
    "    BROWSE_PROFILES = {\n",
    "        # chats, light apps\n",
    "        \"light\":  {\"mb_per_min\": 2,  \"battery_per_min\": 0.5},\n",
    "        \"normal\": {\"mb_per_min\": 5,  \"battery_per_min\": 1},  # social media\n",
    "        \"heavy\":  {\"mb_per_min\": 20, \"battery_per_min\": 2},  # streaming/video\n",
    "    }\n",
    "\n",
    "    CHARGE_RATE_PER_MIN = 1.0       # % battery per minute on charger\n",
    "\n",
    "    # ===== Actions =====\n",
    "    def charge(self, minutes=None, percent=None):\n",
    "        \"\"\"\n",
    "        Charge by time (preferred for realism) or by raw percent.\n",
    "        \"\"\"\n",
    "        if minutes is not None:\n",
    "            if not self._require(minutes > 0, \"Charge minutes must be > 0.\"):\n",
    "                return\n",
    "            self.battery += minutes * self.CHARGE_RATE_PER_MIN\n",
    "        elif percent is not None:\n",
    "            if not self._require(percent > 0, \"Charge percent must be > 0.\"):\n",
    "                return\n",
    "            self.battery += percent\n",
    "        else:\n",
    "            print(\"⚠️  Provide either minutes= or percent= to charge().\")\n",
    "            return\n",
    "        self._cap_battery()\n",
    "        if self.battery == 100:\n",
    "            print(f\"🔋 Battery Full!! Unplug Your Charger\")\n",
    "        else:\n",
    "            print(\n",
    "                f\"🔌 Charging... Battery: {self.battery}% {self._bar(self.battery)}\")\n",
    "\n",
    "    def top_up(self, amount):\n",
    "        if not self._require(amount > 0, \"Top-up amount must be > 0.\"):\n",
    "            return\n",
    "        self.balance += amount\n",
    "        print(\n",
    "            f\"💳 Topped up {self.CURRENCY}{amount:.2f}. Balance: {self.CURRENCY}{self.balance:.2f}\")\n",
    "\n",
    "    def buy_data(self, dollars):\n",
    "        if not self._require(dollars > 0, \"Purchase must be > 0.\"):\n",
    "            return\n",
    "        if not self._require(dollars <= self.balance, \"Not enough balance to buy data.\"):\n",
    "            return\n",
    "        self.balance -= dollars\n",
    "        gained = int(dollars * self.DATA_MB_PER_DOLLAR)\n",
    "        self.data_mb += gained\n",
    "        print(\n",
    "            f\"📶 Bought {gained}MB. Data: {self.data_mb}MB | Balance: {self.CURRENCY}{self.balance:.2f}\")\n",
    "\n",
    "    def call(self, minutes):\n",
    "        if not self._require(minutes > 0, \"Call minutes must be > 0.\"):\n",
    "            return\n",
    "        cost = minutes * self.CALL_COST_PER_MIN\n",
    "        battery_use = minutes * self.CALL_BATTERY_PER_MIN\n",
    "\n",
    "        if not self._require(cost <= self.balance, \"Call failed: not enough balance.\"):\n",
    "            return\n",
    "        if not self._require(battery_use <= self.battery, \"Call failed: low battery.\"):\n",
    "            return\n",
    "\n",
    "        self.balance -= cost\n",
    "        self.battery -= battery_use\n",
    "        self._cap_battery()\n",
    "        print(f\"📞 Called {minutes} min. \"\n",
    "              f\"Balance: {self.CURRENCY}{self.balance:.2f} | Battery: {self.battery}% {self._bar(self.battery)}\")\n",
    "\n",
    "    def browse(self, minutes, profile=\"normal\"):\n",
    "        \"\"\"\n",
    "        Duration-based browsing.\n",
    "        - minutes: how long online\n",
    "        - profile: 'light' | 'normal' | 'heavy' (controls MB + battery per minute)\n",
    "        \"\"\"\n",
    "        if not self._require(minutes > 0, \"Browse minutes must be > 0.\"):\n",
    "            return\n",
    "        if profile not in self.BROWSE_PROFILES:\n",
    "            print(\n",
    "                f\"⚠️  Unknown profile '{profile}'. Use one of: {list(self.BROWSE_PROFILES)}\")\n",
    "            return\n",
    "\n",
    "        mb_per_min = self.BROWSE_PROFILES[profile][\"mb_per_min\"]\n",
    "        batt_per_min = self.BROWSE_PROFILES[profile][\"battery_per_min\"]\n",
    "\n",
    "        need_mb = minutes * mb_per_min\n",
    "        need_batt = minutes * batt_per_min\n",
    "\n",
    "        if not self._require(need_mb <= self.data_mb, \"Browse failed: not enough data.\"):\n",
    "            return\n",
    "        if not self._require(need_batt <= self.battery, \"Browse failed: low battery.\"):\n",
    "            return\n",
    "\n",
    "        self.data_mb -= need_mb\n",
    "        self.battery -= need_batt\n",
    "        self._cap_battery()\n",
    "        print(f\"🌐 Browsed {minutes} min ({profile}). \"\n",
    "              f\"Used {need_mb}MB, {need_batt}% battery. \"\n",
    "              f\"Data: {self.data_mb}MB | Battery: {self.battery}% {self._bar(self.battery)}\")\n",
    "\n",
    "    def sms(self, message):\n",
    "        if not self._require(message > 0, \"Number of messages should be > 0.\"):\n",
    "            return\n",
    "        sms_cost = message * self.COST_PER_SMS\n",
    "        sms_battery_use = message * self.SMS_BATTERY_USE\n",
    "\n",
    "        if not self._require(sms_cost <= self.balance, \"SMS failed: not enough balance.\"):\n",
    "            return\n",
    "        if not self._require(sms_battery_use <= self.battery, \"Call failed: low battery.\"):\n",
    "            return\n",
    "\n",
    "        self.balance -= sms_cost\n",
    "        self.battery -= sms_battery_use\n",
    "        self._cap_battery()\n",
    "        print(f\"💬 Sent {message} message(s). \"\n",
    "              f\"Balance: {self.CURRENCY}{self.balance:.2f} | Battery: {self.battery}% {self._bar(self.battery)}\")\n",
    "\n",
    "    def status(self):\n",
    "        print(\n",
    "            f\"📱 {self.owner}'s Phone\\n\"\n",
    "            f\"   Battery: {self.battery}% {self._bar(self.battery)}\\n\"\n",
    "            f\"   Balance: {self.CURRENCY}{self.balance:.2f}\\n\"\n",
    "            f\"   Data:    {self.data_mb}MB\"\n",
    "        )\n",
    "        if 10 <= self.battery <= 50:\n",
    "            print(\n",
    "                f\" ⚡Battery Level: {self.battery}% Switch to Power Saving Mode\")\n",
    "        elif self.battery < 10:\n",
    "            print(\n",
    "                f\" ⚠️Battery Level: {self.battery}% Battery Low!!! Plug In Your Charger\")"
   ]
  },
  {
   "cell_type": "markdown",
   "id": "eb7a3b88-8d60-4637-bb0d-055cf7b8d860",
   "metadata": {},
   "source": [
    "## 📱 Functionalities of the `Phone` Class\n",
    "\n",
    "The `Smartphone` class is a subclass of the `Phone` class and inherits its functionalities\n",
    "The `Phone` class serves as an abstraction, and the `Smartphone` subclass extends it with additional functionalities.\n",
    "The `Smartphone` class simulates a mobile phone with the following functionalities:\n",
    "\n",
    "- **Status**\n",
    "  - Display the current phone state: battery %, balance ($), and data (MB).\n",
    "  - Includes a simple battery progress bar.\n",
    "  - Suggests whether to charge the phone or switch to power saving mode depending on battery level.\n",
    "\n",
    "- **Charge**\n",
    "  - Charge the phone by **minutes** (realistic charging).\n",
    "  - Optionally charge by **percentage**.\n",
    "  - Battery is capped between 0% and 100%.\n",
    "  -Alerts the user when the battery is fully charged to unplug the charger.\n",
    "\n",
    "- **Top Up**\n",
    "  - Add balance in **dollars ($)**.\n",
    "\n",
    "- **Buy Data**\n",
    "  - Use balance to purchase data bundles.\n",
    "  - Conversion rate: **$1 → 2 MB** (default).\n",
    "\n",
    "- **Call**\n",
    "  - Make calls for a given number of minutes.\n",
    "  - Reduces **balance** ($1 per minute).\n",
    "  - Consumes **battery** (2% per minute).\n",
    "  - Fails if balance or battery is insufficient.\n",
    "\n",
    "- **Browse**\n",
    "  - Browse online for a given duration (minutes).\n",
    "  - Choose a **profile**:  \n",
    "    - *Light* → 2 MB/min, 1% battery/min  \n",
    "    - *Normal* → 5 MB/min, 2% battery/min  \n",
    "    - *Heavy* → 20 MB/min, 4% battery/min  \n",
    "  - Reduces **data** and **battery** accordingly.\n",
    "  - Fails if data or battery is insufficient.\n",
    "\n",
    "- **Sms**\n",
    "  - Send a given number of messages.\n",
    "  - Reduces **balance** ($0.5 per minute).\n",
    "  - Consumes **battery** (0.3% per minute).\n",
    "  - Fails if balance or battery is insufficient.\n"
   ]
  },
  {
   "cell_type": "markdown",
   "id": "e01eb95a-9695-46c5-872e-effb29795841",
   "metadata": {},
   "source": [
    "## 📱 Functionalities of the `Smartphone` Class and How to Call Them\n",
    "\n",
    "### 1. Check Status\n",
    "See the phone’s current battery, balance, data, and provides suggestions on whether to charge the phone or swith to power saving mode.\n",
    "```python\n",
    "my_phone.status()\n",
    "```\n",
    "\n",
    "### 2. Charge the Phone\n",
    "\n",
    "Increase the battery (capped at 100%).\n",
    "\n",
    "- By minutes (realistic charging):\n",
    "\n",
    "```python\n",
    "my_phone.charge(minutes=20)\n",
    "```\n",
    "\n",
    "```python\n",
    "my_phone.charge(percent=30)\n",
    "```\n",
    "\n",
    "### 3. Top Up Balance\n",
    "\n",
    "Add money (in dollars) to your balance.\n",
    "```python\n",
    "my_phone.top_up(10)   # adds $10\n",
    "```\n",
    "\n",
    "\n",
    "### 4. Buy Data\n",
    "\n",
    "Use balance to buy data bundles.\n",
    "\n",
    "Rate: $1 → 2 MB\n",
    "```python\n",
    "my_phone.buy_data(5)   # uses $5 → adds 10MB\n",
    "```\n",
    "\n",
    "### 5. Make a Call\n",
    "\n",
    "Spend balance and battery based on call duration.\n",
    "\n",
    "- Cost: $1 per minute\n",
    "\n",
    "- Battery: 2% per minute\n",
    "\n",
    "```python\n",
    "my_phone.call(3)   # 3-minute call → costs $3, uses 6% battery\n",
    "```\n",
    "\n",
    "### 6. Browse the Internet\n",
    "\n",
    "Use data and battery for a set duration (minutes).\n",
    "\n",
    "Choose a profile: \"light\", \"normal\", \"heavy\"\n",
    "\n",
    "- Light → 2 MB/min, 1% battery/min\n",
    "\n",
    "- Normal → 5 MB/min, 2% battery/min\n",
    "\n",
    "- Heavy → 20 MB/min, 4% battery/min\n",
    "\n",
    "```python\n",
    "my_phone.browse(10, profile=\"normal\")   # 10 min normal browsing\n",
    "my_phone.browse(5, profile=\"heavy\")     # 5 min heavy browsing\n",
    "```\n",
    "\n",
    "### 5. Send an Sms\n",
    "\n",
    "Spend balance and battery based on number of sms sent.\n",
    "\n",
    "- Cost: $0.5 per sms\n",
    "\n",
    "- Battery: 0.3% per sms\n",
    "\n",
    "```python\n",
    "my_phone.sms(5)   # 5 sms → costs $2.5, uses 1.5% battery\n",
    "```"
   ]
  },
  {
   "cell_type": "code",
   "execution_count": 3,
   "id": "3d35f60c-15e9-44dc-acbd-ebd24fa8f888",
   "metadata": {},
   "outputs": [],
   "source": [
    "my_phone = Smartphone(\"Benedict\", battery=20, balance=780, data_mb=3500)"
   ]
  },
  {
   "cell_type": "code",
   "execution_count": 4,
   "id": "e6073be1-0d74-4053-8246-d71a758d6e01",
   "metadata": {},
   "outputs": [
    {
     "name": "stdout",
     "output_type": "stream",
     "text": [
      "📱 Benedict's Phone\n",
      "   Battery: 20% [████················]\n",
      "   Balance: $780.00\n",
      "   Data:    3500MB\n",
      " ⚡Battery Level: 20% Switch to Power Saving Mode\n"
     ]
    }
   ],
   "source": [
    "my_phone.status()"
   ]
  },
  {
   "cell_type": "code",
   "execution_count": null,
   "id": "226006c7",
   "metadata": {},
   "outputs": [
    {
     "name": "stdout",
     "output_type": "stream",
     "text": [
      "🔌 Charging... Battery: 50% [██████████··········]\n"
     ]
    }
   ],
   "source": [
    "my_phone.charge(percent=30)"
   ]
  },
  {
   "cell_type": "code",
   "execution_count": 23,
   "id": "6cf690e2-59c4-4025-b0fd-27c6a98e3e34",
   "metadata": {},
   "outputs": [
    {
     "name": "stdout",
     "output_type": "stream",
     "text": [
      "📶 Bought 20MB. Data: 3520MB | Balance: $770.00\n"
     ]
    }
   ],
   "source": [
    "my_phone.buy_data(10)"
   ]
  },
  {
   "cell_type": "code",
   "execution_count": 36,
   "id": "01d3ca00-072b-48cd-9834-17c990b19bc1",
   "metadata": {},
   "outputs": [
    {
     "name": "stdout",
     "output_type": "stream",
     "text": [
      "📱 Benedict's Phone\n",
      "   Battery: 100% [████████████████████]\n",
      "   Balance: $780.00\n",
      "   Data:    3500MB\n"
     ]
    }
   ],
   "source": [
    "my_phone.status()"
   ]
  },
  {
   "cell_type": "code",
   "execution_count": 25,
   "id": "aaf1a394-3fa8-4bab-8b60-84ae280f93f6",
   "metadata": {},
   "outputs": [
    {
     "name": "stdout",
     "output_type": "stream",
     "text": [
      "📞 Called 4 min. Balance: $766.00 | Battery: 41% [████████············]\n"
     ]
    }
   ],
   "source": [
    "my_phone.call(4)"
   ]
  },
  {
   "cell_type": "code",
   "execution_count": 5,
   "id": "c6e62335-32c1-4534-8a16-c95d8a6e11a1",
   "metadata": {},
   "outputs": [
    {
     "name": "stdout",
     "output_type": "stream",
     "text": [
      "📱 Benedict's Phone\n",
      "   Battery: 20% [████················]\n",
      "   Balance: $780.00\n",
      "   Data:    3500MB\n",
      " ⚡Battery Level: 20% Switch to Power Saving Mode\n"
     ]
    }
   ],
   "source": [
    "my_phone.status()"
   ]
  },
  {
   "cell_type": "code",
   "execution_count": null,
   "id": "bdec1723-4487-47d8-9013-1af61d14c05c",
   "metadata": {},
   "outputs": [
    {
     "name": "stdout",
     "output_type": "stream",
     "text": [
      "🌐 Browsed 6 min (heavy). Used 120MB, 12% battery. Data: 3400MB | Battery: 29% [██████··············]\n"
     ]
    }
   ],
   "source": [
    "my_phone.browse(6, profile=\"heavy\")"
   ]
  },
  {
   "cell_type": "code",
   "execution_count": 28,
   "id": "2c9f841d-a1c1-4c3c-b0e4-1d874e3169d7",
   "metadata": {},
   "outputs": [
    {
     "name": "stdout",
     "output_type": "stream",
     "text": [
      "🔌 Charging... Battery: 49% [██████████··········]\n"
     ]
    }
   ],
   "source": [
    "my_phone.charge(minutes=20)"
   ]
  },
  {
   "cell_type": "code",
   "execution_count": 29,
   "id": "be5b281c-fe7e-4a00-a143-52922fbd0321",
   "metadata": {},
   "outputs": [
    {
     "name": "stdout",
     "output_type": "stream",
     "text": [
      "🔌 Charging... Battery: 79% [████████████████····]\n"
     ]
    }
   ],
   "source": [
    "my_phone.charge(percent=30)"
   ]
  },
  {
   "cell_type": "code",
   "execution_count": 6,
   "id": "47d3820c-6c05-40a4-a0a9-951eb8a5fbd2",
   "metadata": {},
   "outputs": [
    {
     "name": "stdout",
     "output_type": "stream",
     "text": [
      "📱 Benedict's Phone\n",
      "   Battery: 20% [████················]\n",
      "   Balance: $780.00\n",
      "   Data:    3500MB\n",
      " ⚡Battery Level: 20% Switch to Power Saving Mode\n"
     ]
    }
   ],
   "source": [
    "my_phone.status()"
   ]
  },
  {
   "cell_type": "code",
   "execution_count": 7,
   "id": "4eb21f8b-63e9-4a4b-9cdf-d12579a8ecc1",
   "metadata": {},
   "outputs": [
    {
     "name": "stdout",
     "output_type": "stream",
     "text": [
      "🔌 Charging... Battery: 50% [██████████··········]\n"
     ]
    }
   ],
   "source": [
    "my_phone.charge(minutes=5, percent=10)"
   ]
  },
  {
   "cell_type": "code",
   "execution_count": null,
   "id": "57487f50-ca9e-4a02-9fd7-790602db0dae",
   "metadata": {},
   "outputs": [
    {
     "name": "stdout",
     "output_type": "stream",
     "text": [
      "🔋 Battery Full!! Unplug Your Charger\n"
     ]
    }
   ],
   "source": [
    "my_phone.charge(percent=50)"
   ]
  },
  {
   "cell_type": "code",
   "execution_count": null,
   "id": "44f32f40-c203-4ace-870f-bfba220a09fd",
   "metadata": {},
   "outputs": [
    {
     "name": "stdout",
     "output_type": "stream",
     "text": [
      "🔌 Charging... Battery: 52% [██████████··········]\n"
     ]
    }
   ],
   "source": [
    "my_phone.charge(percent=5)"
   ]
  },
  {
   "cell_type": "code",
   "execution_count": null,
   "id": "3fd1e5a7-f0db-4b24-8ee5-34037e1d1b1a",
   "metadata": {},
   "outputs": [
    {
     "name": "stdout",
     "output_type": "stream",
     "text": [
      "🔌 Charging... Battery: 100% [████████████████████]\n"
     ]
    }
   ],
   "source": [
    "my_phone.charge(percent=50)"
   ]
  },
  {
   "cell_type": "code",
   "execution_count": null,
   "id": "bac661ba-afb4-476d-bcb9-b2e975e4515a",
   "metadata": {},
   "outputs": [
    {
     "name": "stdout",
     "output_type": "stream",
     "text": [
      "💬 Sent 10 message(s). Balance: $775.00 | Battery: 47% [█████████···········]\n"
     ]
    }
   ],
   "source": [
    "my_phone.sms(message=10)"
   ]
  },
  {
   "cell_type": "code",
   "execution_count": 40,
   "id": "e11dfa30-b8e2-4dd3-b437-60e4eff696db",
   "metadata": {},
   "outputs": [
    {
     "name": "stdout",
     "output_type": "stream",
     "text": [
      "📱 Benedict's Phone\n",
      "   Battery: 50% [██████████··········]\n",
      "   Balance: $780.00\n",
      "   Data:    3500MB\n",
      " ⚡Battery Level: 50% Switch to Power Saving Mode\n"
     ]
    }
   ],
   "source": [
    "my_phone.status()"
   ]
  },
  {
   "cell_type": "code",
   "execution_count": null,
   "id": "236d7b35",
   "metadata": {},
   "outputs": [],
   "source": []
  }
 ],
 "metadata": {
  "kernelspec": {
   "display_name": "base",
   "language": "python",
   "name": "python3"
  },
  "language_info": {
   "codemirror_mode": {
    "name": "ipython",
    "version": 3
   },
   "file_extension": ".py",
   "mimetype": "text/x-python",
   "name": "python",
   "nbconvert_exporter": "python",
   "pygments_lexer": "ipython3",
   "version": "3.12.7"
  }
 },
 "nbformat": 4,
 "nbformat_minor": 5
}
